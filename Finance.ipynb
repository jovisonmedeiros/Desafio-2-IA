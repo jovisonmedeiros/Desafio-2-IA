{
  "nbformat": 4,
  "nbformat_minor": 0,
  "metadata": {
    "colab": {
      "provenance": [],
      "authorship_tag": "ABX9TyOjNj4RUsQCgezfUkgUm+C5",
      "include_colab_link": true
    },
    "kernelspec": {
      "name": "python3",
      "display_name": "Python 3"
    },
    "language_info": {
      "name": "python"
    }
  },
  "cells": [
    {
      "cell_type": "markdown",
      "metadata": {
        "id": "view-in-github",
        "colab_type": "text"
      },
      "source": [
        "<a href=\"https://colab.research.google.com/github/jovisonmedeiros/Desafio-2-IA/blob/main/Finance.ipynb\" target=\"_parent\"><img src=\"https://colab.research.google.com/assets/colab-badge.svg\" alt=\"Open In Colab\"/></a>"
      ]
    },
    {
      "cell_type": "code",
      "execution_count": null,
      "metadata": {
        "id": "ID69C_z1d4bY"
      },
      "outputs": [],
      "source": []
    },
    {
      "cell_type": "code",
      "source": [
        "import pandas as pd\n",
        "from sklearn.model_selection import train_test_split, cross_val_score, StratifiedKFold\n",
        "from sklearn.naive_bayes import GaussianNB\n",
        "from sklearn.svm import SVC\n",
        "from sklearn.neighbors import KNeighborsClassifier\n",
        "from sklearn.tree import DecisionTreeClassifier\n",
        "from sklearn.metrics import confusion_matrix, classification_report, roc_auc_score, matthews_corrcoef\n",
        "import matplotlib.pyplot as plt\n",
        "import seaborn as sns\n",
        "\n",
        "# 1. Carregar os dados (substitua pelo seu arquivo real)\n",
        "# Exemplo com CSV fictício:\n",
        "# df = pd.read_csv(\"seus_dados.csv\")\n",
        "# X = df.drop(\"target\", axis=1)\n",
        "# y = df[\"target\"]\n",
        "\n",
        "# Exemplo genérico com dados de breast cancer para simular:\n",
        "from sklearn.datasets import load_breast_cancer\n",
        "data = load_breast_cancer()\n",
        "X = pd.DataFrame(data.data, columns=data.feature_names)\n",
        "y = pd.Series(data.target)\n",
        "\n",
        "# 2. Divisão treino/teste\n",
        "X_train, X_test, y_train, y_test = train_test_split(X, y, test_size=0.3, stratify=y, random_state=42)\n",
        "\n",
        "# 3. Definir modelos\n",
        "models = {\n",
        "    \"Naive Bayes\": GaussianNB(),\n",
        "    \"SVM\": SVC(probability=True),\n",
        "    \"kNN\": KNeighborsClassifier(),\n",
        "    \"Tree\": DecisionTreeClassifier()\n",
        "}\n",
        "\n",
        "# 4. Avaliação\n",
        "cv = StratifiedKFold(n_splits=10, shuffle=True, random_state=42)\n",
        "\n",
        "results = []\n",
        "for name, model in models.items():\n",
        "    model.fit(X_train, y_train)\n",
        "    y_pred = model.predict(X_test)\n",
        "    y_proba = model.predict_proba(X_test)[:, 1] if hasattr(model, \"predict_proba\") else None\n",
        "\n",
        "    auc = roc_auc_score(y_test, y_proba) if y_proba is not None else None\n",
        "    mcc = matthews_corrcoef(y_test, y_pred)\n",
        "\n",
        "    report = classification_report(y_test, y_pred, output_dict=True, zero_division=0)\n",
        "    acc = report['accuracy']\n",
        "    precision = report['weighted avg']['precision']\n",
        "    recall = report['weighted avg']['recall']\n",
        "    f1 = report['weighted avg']['f1-score']\n",
        "\n",
        "    results.append([name, auc, acc, f1, precision, recall, mcc])\n",
        "\n",
        "# 5. Mostrar resultados em tabela\n",
        "result_df = pd.DataFrame(results, columns=[\"Model\", \"AUC\", \"Accuracy\", \"F1\", \"Precision\", \"Recall\", \"MCC\"])\n",
        "print(result_df)\n",
        "\n",
        "# 6. Matriz de confusão para Naive Bayes\n",
        "model_nb = GaussianNB()\n",
        "model_nb.fit(X_train, y_train)\n",
        "y_pred_nb = model_nb.predict(X_test)\n",
        "\n",
        "cm = confusion_matrix(y_test, y_pred_nb)\n",
        "labels = ['bad', 'good']\n",
        "\n",
        "plt.figure(figsize=(6, 4))\n",
        "sns.heatmap(cm, annot=True, fmt='d', cmap='Blues', xticklabels=labels, yticklabels=labels)\n",
        "plt.xlabel(\"Predicted\")\n",
        "plt.ylabel(\"Actual\")\n",
        "plt.title(\"Confusion Matrix - Naive Bayes\")\n",
        "plt.show()\n"
      ],
      "metadata": {
        "colab": {
          "base_uri": "https://localhost:8080/",
          "height": 497
        },
        "id": "ymeom3k4d8e6",
        "outputId": "6ccfe88e-23d7-4bee-8200-332423409948"
      },
      "execution_count": 1,
      "outputs": [
        {
          "output_type": "stream",
          "name": "stdout",
          "text": [
            "         Model       AUC  Accuracy        F1  Precision    Recall       MCC\n",
            "0  Naive Bayes  0.990070  0.947368  0.946899   0.948205  0.947368  0.887626\n",
            "1          SVM  0.969188  0.906433  0.904557   0.909682  0.906433  0.800436\n",
            "2          kNN  0.948890  0.923977  0.923854   0.923799  0.923977  0.837244\n",
            "3         Tree  0.921948  0.929825  0.929592   0.929632  0.929825  0.849497\n"
          ]
        },
        {
          "output_type": "display_data",
          "data": {
            "text/plain": [
              "<Figure size 600x400 with 2 Axes>"
            ],
            "image/png": "[encoded data removed]"
          },
          "metadata": {}
        }
      ]
    }
  ]
}